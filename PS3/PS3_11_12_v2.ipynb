{
 "cells": [
  {
   "cell_type": "markdown",
   "metadata": {},
   "source": [
    "<hr>\n",
    "\n",
    " ### PS3 ###\n",
    "\n",
    " \n",
    "<hr>"
   ]
  },
  {
   "cell_type": "code",
   "execution_count": 1,
   "metadata": {},
   "outputs": [],
   "source": [
    "import numpy as np\n",
    "import sympy \n",
    "from sympy import *"
   ]
  },
  {
   "cell_type": "markdown",
   "metadata": {},
   "source": [
    "$$ \\begin{equation}\n",
    "\n",
    "\n",
    "    U_t = \\begin{bmatrix} k_{t+1} \\\\ h_t \\end{bmatrix} \\quad\\quad \\quad\n",
    "\n",
    "\n",
    "\n",
    "    X_t = \\begin{bmatrix}  \n",
    "\n",
    "            X_{1t} \\\\ X_{2t} \\\\ X_{3t} \n",
    "            \n",
    "          \\end{bmatrix} \n",
    "\n",
    "        = \\begin{bmatrix} \n",
    "\n",
    "             \\begin{bmatrix} \n",
    "                1 \\\\ k_{t} \n",
    "             \\end{bmatrix} \n",
    "\n",
    "                \\\\\n",
    "\n",
    "            \\begin{bmatrix} \n",
    "                ln({z_{t}}) \\\\ \\tau_{ct} \\\\ \\tau_{ht} \\\\ \\tau_{dt} \\\\ \\tau_{pt} \\\\ log(g_t)  \n",
    "            \\end{bmatrix}\n",
    "\n",
    "                \\\\\n",
    "                    \n",
    "            \\begin{bmatrix}\n",
    "                K_t \\\\ H_t \\\\ \\kappa_t\n",
    "            \\end{bmatrix} \n",
    "                    \n",
    "           \\end{bmatrix}\\\\\n",
    "\n",
    "\\end{equation} \n",
    "$$"
   ]
  },
  {
   "cell_type": "code",
   "execution_count": 2,
   "metadata": {},
   "outputs": [],
   "source": [
    "'''\n",
    "This class defines the jacobian and the Hessian for any given differentiable function.\n",
    "\n",
    "Inputs: f = Function.\n",
    "        x = np.array of values around which we are going to differentiate.\n",
    "\n",
    "Outputs: The Jacobian as a column vector.\n",
    "         The Hessian Matrix\n",
    "\n",
    "....... Example .......\n",
    "\n",
    "> def g(x, y, z):\n",
    ">    return x**2 + y**3 + z**8 + x**2 * z + y** x\n",
    "\n",
    "> G = Derivatives(g, np.array([1, 1, 1]))\n",
    "> G.J, G.H\n",
    "\n",
    "> (array([[4.002     ],\n",
    ">        [4.003001  ],\n",
    ">        [9.02805607]]),\n",
    "> array([[4.00000000e+00, 1.00050033e+00, 2.00100000e+00],\n",
    ">        [1.00050033e+00, 6.00600000e+00, 8.88121576e-10],\n",
    ">        [2.00100000e+00, 8.88121576e-10, 5.63369817e+01]]))\n",
    "\n",
    "'''\n",
    "\n",
    "class Derivatives:\n",
    "    \n",
    "    def __init__(self, f, x):\n",
    "        self.f = f\n",
    "        self.x = x\n",
    "        self.J = self.Compute_derivatives()[0]\n",
    "        self.H = self.Compute_derivatives()[1]\n",
    "\n",
    "    def Compute_derivatives(self):\n",
    "        x_ss = self.x\n",
    "        dim = int(np.shape(x_ss)[0])\n",
    "        Δ = np.maximum(np.ones([1, dim]) * 10e-8, 10.e-4 * np.abs(x_ss))\n",
    "        J = np.zeros([dim,1])\n",
    "        H_aux = np.zeros([dim,np.shape(x_ss)[0]])\n",
    "        for i in range(dim):\n",
    "            e_1 = np.zeros([1,dim])\n",
    "            e_1[0, i] = 1\n",
    "            y = x_ss + Δ * e_1\n",
    "            J[i,0] = (self.f(*y[0,:]) - self.f(*x_ss)) / (Δ @ e_1.T)\n",
    "            for j in range(dim):\n",
    "                e_2 = np.zeros([1,dim])\n",
    "                e_2[0, j] = 1\n",
    "                z_1 = x_ss + Δ * e_1 + Δ * e_2\n",
    "                H_aux[i,j] = ((self.f(*z_1[0,:]) - self.f(*y[0,:])) / (Δ @ e_1.T) - J[i,0]) / (Δ @ e_2.T)\n",
    "        return J, (0.5*H_aux + 0.5*H_aux.T)\n"
   ]
  },
  {
   "cell_type": "code",
   "execution_count": 3,
   "metadata": {},
   "outputs": [],
   "source": [
    "β = 0.9\n",
    "γ_n = 0.1\n",
    "γ_z= 0.1\n",
    "θ= 0.7\n",
    "ψ= 0.3\n",
    "δ=0.9\n",
    "ϕ_g=0.01\n",
    "\n",
    "#Compute the steady state\n",
    "\n",
    "λ_1 = ((((1+γ_z)/β) - (1-δ)) / (θ) )**( 1 / (1-θ) )\n",
    "λ_2 = ((1-ϕ_g) * λ_1**(1-θ) + (1 - δ - (1+γ_z) * (1+γ_n)))\n",
    "th_ss = 0\n",
    "tc_ss = 0\n",
    "tp_ss = 0\n",
    "td_ss = 0 \n",
    "lnz_ss = 1\n",
    "w_ss = (1-θ) * (λ_1)**(-θ)\n",
    "k_ss = w_ss / (w_ss * λ_1 + ψ * λ_2) \n",
    "kp_ss = k_ss\n",
    "h_ss = λ_1 * k_ss\n",
    "y_ss = k_ss**(θ) * h_ss**(1-θ)\n",
    "r_ss = θ * (y_ss/k_ss)\n",
    "K_ss = k_ss\n",
    "H_ss = h_ss\n",
    "c_ss = λ_2 * k_ss\n",
    "g_ss = ϕ_g * y_ss\n",
    "κ_ss = -g_ss\n",
    "lng_ss = np.log(g_ss)"
   ]
  },
  {
   "cell_type": "code",
   "execution_count": 4,
   "metadata": {},
   "outputs": [],
   "source": [
    "def U(kp, h, k, lnz, tc, th, td, tp, K, H, κ):\n",
    "\n",
    "    r = θ * K**(θ-1) * (np.exp(lnz)*H)**(1-θ)\n",
    "    w = (1-θ) * K**(θ) * (np.exp(lnz)**(1-θ)) * H**(-θ)\n",
    "    x = (1+γ_n) * (1+γ_n) * kp - (1-δ) * k \n",
    "    c = r * k + w * h + κ - th * w * h - tp * (r * k - δ * k) - td * (r * k - x - tp * (r * k - δ * k)) - x\n",
    "\n",
    "    return np.log(c) + ψ * np.log(1-h)"
   ]
  },
  {
   "cell_type": "code",
   "execution_count": 5,
   "metadata": {},
   "outputs": [],
   "source": [
    "e_ss = np.array([kp_ss, h_ss, k_ss, lnz_ss, tc_ss, th_ss, td_ss, tp_ss, K_ss, H_ss, κ_ss])\n",
    "#U(kp_ss, h_ss, k_ss, lnz_ss, tc_ss, th_ss, td_ss, tp_ss, K_ss, H_ss, κ_ss)\n",
    "Aux = Derivatives(U, e_ss)\n"
   ]
  },
  {
   "cell_type": "code",
   "execution_count": 6,
   "metadata": {},
   "outputs": [],
   "source": [
    "kp, h, k, lnz, tc, th, td, tp, K, H, κ = symbols('kp h k lnz tc th td tp K H κ')\n",
    "x = [kp, h, k, lnz, tc, th, td, tp, K, H, κ]\n",
    "x_ss = np.array([kp_ss, h_ss, k_ss, lnz_ss, tc_ss, th_ss, td_ss, tp_ss, K_ss, H_ss, κ_ss])\n",
    "Taylor = U(*x_ss) + Aux.J.T[0,:] @  (x-x_ss) + 0.5 * ((x-x_ss).T @ Aux.H[:,:] @ (x-x_ss))\n",
    "coeff = sympy.expand(Taylor).as_coefficients_dict()\n",
    "for k in coeff.keys():\n",
    "    coeff[k] = float(coeff[k])  "
   ]
  },
  {
   "cell_type": "code",
   "execution_count": 20,
   "metadata": {},
   "outputs": [],
   "source": [
    "Q1 = np.array([coeff[1], 0.5 * coeff[1*k], 0.5 * coeff[1*lnz], 0.5 * coeff[1*tc], 0.5 * coeff[1*th],0.5 * coeff[1*td],0.5 * coeff[1*tp], 0, 0.5 * coeff[1*K], 0.5 * coeff[1*H], 0.5*coeff[1*κ]])\n",
    "Q2 = np.array([coeff[k**2], 0.5 * coeff[k*lnz], 0.5 * coeff[k*tc], 0.5 * coeff[k*th],0.5 * coeff[k*td],0.5 * coeff[k*tp], 0, 0.5 * coeff[k*K], 0.5 * coeff[k*H], 0.5*coeff[k*κ]])\n",
    "Q3 = np.array([coeff[lnz**2], 0.5 * coeff[lnz*tc], 0.5 * coeff[lnz*th],0.5 * coeff[lnz*td],0.5 * coeff[lnz*tp], 0, 0.5 * coeff[lnz*K], 0.5 * coeff[lnz*H], 0.5*coeff[lnz*κ]])\n",
    "Q4 = np.array([coeff[tc**2], 0.5 * coeff[tc*th],0.5 * coeff[tc*td],0.5 * coeff[tc*tp], 0, 0.5 * coeff[tc*K], 0.5 * coeff[tc*H], 0.5*coeff[tc*κ]])\n",
    "Q5 = np.array([coeff[th**2],0.5 * coeff[th*td],0.5 * coeff[th*tp], 0, 0.5 * coeff[th*K], 0.5 * coeff[th*H], 0.5*coeff[th*κ]])\n",
    "Q6 = np.array([coeff[td**2],0.5 * coeff[td*tp], 0, 0.5 * coeff[td*K], 0.5 * coeff[td*H], 0.5*coeff[td*κ]])\n",
    "Q7 = np.array([coeff[tp**2], 0, 0.5 * coeff[tp*K], 0.5 * coeff[tp*H], 0.5*coeff[tp*κ]])\n",
    "Q8 = np.array([0, 0, 0, 0])\n",
    "Q9 = np.array([coeff[K**2], 0.5 * coeff[K*H], 0.5*coeff[K*κ]])\n",
    "Q10 = np.array([coeff[H**2], 0.5*coeff[K*κ]])\n",
    "Q11 = np.array([coeff[κ**2]])"
   ]
  },
  {
   "cell_type": "code",
   "execution_count": 41,
   "metadata": {},
   "outputs": [],
   "source": [
    "Q = np.zeros((11,11))\n",
    "giga_Q = [Q1, Q2, Q3, Q4, Q5, Q6, Q7, Q8, Q9, Q10, Q11]\n",
    "for i in range(11):\n",
    "    Q[i,i:]= giga_Q[i]\n",
    "    Q[i:, i ] = giga_Q[i].T"
   ]
  },
  {
   "cell_type": "code",
   "execution_count": 38,
   "metadata": {},
   "outputs": [
    {
     "data": {
      "text/plain": [
       "array([[-5.15379800e+00, -1.77575239e+00,  4.13505425e-01,\n",
       "        -4.77191551e-12, -4.13316562e-01, -9.92084921e-02,\n",
       "        -2.61786075e-01,  0.00000000e+00,  1.82118019e-03,\n",
       "         1.13110820e-03,  7.90147742e+00],\n",
       "       [-1.77575239e+00,  1.44000000e+02,  1.44000000e+02,\n",
       "         1.44000000e+02,  1.44000000e+02,  1.44000000e+02,\n",
       "         1.44000000e+02,  1.44000000e+02,  1.44000000e+02,\n",
       "         1.44000000e+02,  1.44000000e+02],\n",
       "       [ 4.13505425e-01,  0.00000000e+00,  0.00000000e+00,\n",
       "         0.00000000e+00,  0.00000000e+00,  0.00000000e+00,\n",
       "         0.00000000e+00,  0.00000000e+00,  0.00000000e+00,\n",
       "         0.00000000e+00,  0.00000000e+00],\n",
       "       [-4.77191551e-12,  0.00000000e+00,  0.00000000e+00,\n",
       "         0.00000000e+00,  0.00000000e+00,  0.00000000e+00,\n",
       "         0.00000000e+00,  0.00000000e+00,  0.00000000e+00,\n",
       "         0.00000000e+00,  0.00000000e+00],\n",
       "       [-4.13316562e-01,  0.00000000e+00,  0.00000000e+00,\n",
       "         0.00000000e+00,  0.00000000e+00,  0.00000000e+00,\n",
       "         0.00000000e+00,  0.00000000e+00,  0.00000000e+00,\n",
       "         0.00000000e+00,  0.00000000e+00],\n",
       "       [-9.92084921e-02,  0.00000000e+00,  0.00000000e+00,\n",
       "         0.00000000e+00,  0.00000000e+00,  0.00000000e+00,\n",
       "         0.00000000e+00,  0.00000000e+00,  0.00000000e+00,\n",
       "         0.00000000e+00,  0.00000000e+00],\n",
       "       [-2.61786075e-01,  0.00000000e+00,  0.00000000e+00,\n",
       "         0.00000000e+00,  0.00000000e+00,  0.00000000e+00,\n",
       "         0.00000000e+00,  0.00000000e+00,  0.00000000e+00,\n",
       "         0.00000000e+00,  0.00000000e+00],\n",
       "       [ 0.00000000e+00,  0.00000000e+00,  0.00000000e+00,\n",
       "         0.00000000e+00,  0.00000000e+00,  0.00000000e+00,\n",
       "         0.00000000e+00,  0.00000000e+00,  0.00000000e+00,\n",
       "         0.00000000e+00,  0.00000000e+00],\n",
       "       [ 1.82118019e-03,  0.00000000e+00,  0.00000000e+00,\n",
       "         0.00000000e+00,  0.00000000e+00,  0.00000000e+00,\n",
       "         0.00000000e+00,  0.00000000e+00,  0.00000000e+00,\n",
       "         0.00000000e+00,  0.00000000e+00],\n",
       "       [ 1.13110820e-03,  0.00000000e+00,  0.00000000e+00,\n",
       "         0.00000000e+00,  0.00000000e+00,  0.00000000e+00,\n",
       "         0.00000000e+00,  0.00000000e+00,  0.00000000e+00,\n",
       "         0.00000000e+00,  0.00000000e+00],\n",
       "       [ 7.90147742e+00,  0.00000000e+00,  0.00000000e+00,\n",
       "         0.00000000e+00,  0.00000000e+00,  0.00000000e+00,\n",
       "         0.00000000e+00,  0.00000000e+00,  0.00000000e+00,\n",
       "         0.00000000e+00,  0.00000000e+00]])"
      ]
     },
     "execution_count": 38,
     "metadata": {},
     "output_type": "execute_result"
    }
   ],
   "source": [
    "Q = np.zeros((11,11))\n",
    "Q[0,:] = Q1\n",
    "Q[:,0] = Q1.T\n",
    "Q[1,1:]= Q2\n",
    "Q[1:, 1] = Q2.T\n",
    "Q"
   ]
  },
  {
   "cell_type": "code",
   "execution_count": 46,
   "metadata": {},
   "outputs": [
    {
     "data": {
      "text/plain": [
       "array([[-5.15379800e+00, -1.77575239e+00,  4.13505425e-01,\n",
       "        -4.77191551e-12, -4.13316562e-01, -9.92084921e-02,\n",
       "        -2.61786075e-01,  0.00000000e+00,  1.82118019e-03,\n",
       "         1.13110820e-03,  7.90147742e+00],\n",
       "       [-1.77575239e+00,  0.00000000e+00,  0.00000000e+00,\n",
       "         0.00000000e+00,  0.00000000e+00,  0.00000000e+00,\n",
       "         0.00000000e+00,  0.00000000e+00,  0.00000000e+00,\n",
       "         0.00000000e+00,  0.00000000e+00],\n",
       "       [ 4.13505425e-01,  0.00000000e+00, -1.01672075e-01,\n",
       "         0.00000000e+00,  1.01720854e-01, -9.68936044e-02,\n",
       "        -3.36597420e-02,  0.00000000e+00, -2.22596448e-04,\n",
       "        -4.61463815e-05, -1.88428978e+00],\n",
       "       [-4.77191551e-12,  0.00000000e+00,  0.00000000e+00,\n",
       "         0.00000000e+00,  0.00000000e+00,  0.00000000e+00,\n",
       "         0.00000000e+00,  0.00000000e+00,  0.00000000e+00,\n",
       "         0.00000000e+00, -1.86264515e-09],\n",
       "       [-4.13316562e-01,  0.00000000e+00,  1.01720854e-01,\n",
       "         0.00000000e+00, -1.77635684e-01, -1.11022302e-01,\n",
       "        -1.99840144e-01,  0.00000000e+00, -1.36918513e+00,\n",
       "         2.83900602e-01,  1.88511073e+00],\n",
       "       [-9.92084921e-02,  0.00000000e+00, -9.68936044e-02,\n",
       "         0.00000000e+00, -1.11022302e-01, -8.88178420e-02,\n",
       "         1.55431223e-01,  0.00000000e+00,  1.36921292e+00,\n",
       "        -2.83897721e-01,  1.17526904e+00],\n",
       "       [-2.61786075e-01,  0.00000000e+00, -3.36597420e-02,\n",
       "         0.00000000e+00, -1.99840144e-01,  1.55431223e-01,\n",
       "        -1.77635684e-01,  0.00000000e+00,  1.36935187e+00,\n",
       "        -2.83871789e-01,  1.78457150e+00],\n",
       "       [ 0.00000000e+00,  0.00000000e+00,  0.00000000e+00,\n",
       "         0.00000000e+00,  0.00000000e+00,  0.00000000e+00,\n",
       "         0.00000000e+00,  0.00000000e+00,  0.00000000e+00,\n",
       "         0.00000000e+00,  0.00000000e+00],\n",
       "       [ 1.82118019e-03,  0.00000000e+00, -2.22596448e-04,\n",
       "         0.00000000e+00, -1.36918513e+00,  1.36921292e+00,\n",
       "         1.36935187e+00,  0.00000000e+00,  8.54982600e+00,\n",
       "        -1.77575239e+00, -4.12526765e-03],\n",
       "       [ 1.13110820e-03,  0.00000000e+00, -4.61463815e-05,\n",
       "         0.00000000e+00,  2.83900602e-01, -2.83897721e-01,\n",
       "        -2.83871789e-01,  0.00000000e+00, -1.77575239e+00,\n",
       "         3.67342507e-01, -4.12526765e-03],\n",
       "       [ 7.90147742e+00,  0.00000000e+00, -1.88428978e+00,\n",
       "        -1.86264515e-09,  1.88511073e+00,  1.17526904e+00,\n",
       "         1.78457150e+00,  0.00000000e+00, -4.12526765e-03,\n",
       "        -4.12526765e-03, -1.81708732e+01]])"
      ]
     },
     "execution_count": 46,
     "metadata": {},
     "output_type": "execute_result"
    }
   ],
   "source": [
    "np.matrix(Q)\n",
    "Q.view()"
   ]
  },
  {
   "cell_type": "code",
   "execution_count": 74,
   "metadata": {},
   "outputs": [],
   "source": [
    "R = np.array([ [coeff[kp**2], 0.5*coeff[kp*h]] , [0.5*coeff[kp*h], coeff[h**2]] ])"
   ]
  },
  {
   "cell_type": "code",
   "execution_count": 65,
   "metadata": {},
   "outputs": [
    {
     "data": {
      "text/plain": [
       "(array([[-9.56992594e+00,  2.49853804e+00],\n",
       "        [ 0.00000000e+00,  0.00000000e+00],\n",
       "        [ 2.28268581e+00, -1.31912323e-01],\n",
       "        [ 0.00000000e+00,  0.00000000e+00],\n",
       "        [-2.28376767e+00, -1.51899442e-01],\n",
       "        [ 2.22738177e+00,  1.58163396e-01],\n",
       "        [-2.16285341e+00,  2.40205634e-01],\n",
       "        [ 0.00000000e+00,  0.00000000e+00],\n",
       "        [ 4.99761930e-03,  1.77559524e+00],\n",
       "        [ 1.03604203e-03, -3.68164899e-01],\n",
       "        [ 2.20127243e+01, -2.44473266e+00]]),\n",
       " array([[-9.56992594,  2.49853804],\n",
       "        [ 0.        ,  0.        ],\n",
       "        [ 2.28268581, -0.13191232],\n",
       "        [ 0.        ,  0.        ],\n",
       "        [-2.28376767, -0.15189944],\n",
       "        [ 2.22738177,  0.1581634 ],\n",
       "        [-2.16285341,  0.24020563],\n",
       "        [ 0.        ,  0.        ]]),\n",
       " array([[ 4.99761930e-03,  1.77559524e+00],\n",
       "        [ 1.03604203e-03, -3.68164899e-01],\n",
       "        [ 2.20127243e+01, -2.44473266e+00]]))"
      ]
     },
     "execution_count": 65,
     "metadata": {},
     "output_type": "execute_result"
    }
   ],
   "source": [
    "W = 0.5*np.array([  [coeff[kp*1], coeff[h*1]],\\\n",
    "                    [coeff[kp*k], coeff[h*k]],\\\n",
    "                    [coeff[kp*lnz], coeff[h*lnz]],\\\n",
    "                    [coeff[kp*tc], coeff[h*tc]],\\\n",
    "                    [coeff[kp*th], coeff[h*th]],\\\n",
    "                    [coeff[kp*td], coeff[h*td]],\\\n",
    "                    [coeff[kp*tp], coeff[h*tp]],\\\n",
    "                    [0, 0],\\\n",
    "                    [coeff[kp * K], coeff[h * K]],\\\n",
    "                    [coeff[kp * H], coeff[h * H]],\\\n",
    "                    [coeff[kp * κ], coeff[h * κ]]])\n",
    "\n",
    "W_y = W[0:8,:]\n",
    "W_z = W[8:,:]\n",
    "W, W_y, W_z"
   ]
  },
  {
   "cell_type": "code",
   "execution_count": 54,
   "metadata": {},
   "outputs": [],
   "source": [
    "A11 = np.array([[1, 0], [0, 0]])\n",
    "A12 = np.array([[0, 0, 0, 0, 0, 0], [0, 0, 0, 0, 0, 0]])\n",
    "A12 = np.array([[0, 0, 0], [0, 0, 0]])\n",
    "A22 = np.zeros((6,6))\n",
    "ρ, ρ_c, ρ_h, ρ_d, ρ_p, ρ_g = 0.8, 0.8, 0.8, 0.8, 0.8, 0.8\n",
    "giga_ρ = [ρ, ρ_c, ρ_h, ρ_d, ρ_p, ρ_g]\n",
    "for i in range(6):\n",
    "    A22[i,i]=giga_ρ[i]\n",
    "A23 = np.zeros((6,3))"
   ]
  },
  {
   "cell_type": "code",
   "execution_count": 91,
   "metadata": {},
   "outputs": [
    {
     "data": {
      "text/plain": [
       "(array([[0., 0.],\n",
       "        [1., 0.],\n",
       "        [0., 0.],\n",
       "        [0., 0.],\n",
       "        [0., 0.],\n",
       "        [0., 0.],\n",
       "        [0., 0.],\n",
       "        [0., 0.],\n",
       "        [0., 0.],\n",
       "        [0., 0.],\n",
       "        [0., 0.]]),\n",
       " array([[0., 0.],\n",
       "        [1., 0.],\n",
       "        [0., 0.],\n",
       "        [0., 0.],\n",
       "        [0., 0.],\n",
       "        [0., 0.],\n",
       "        [0., 0.],\n",
       "        [0., 0.]]))"
      ]
     },
     "execution_count": 91,
     "metadata": {},
     "output_type": "execute_result"
    }
   ],
   "source": [
    "B = np.zeros((11,2))\n",
    "B[1,0] = 1\n",
    "B_y = B[0:8,:]\n",
    "B, B_y"
   ]
  },
  {
   "cell_type": "code",
   "execution_count": 57,
   "metadata": {},
   "outputs": [],
   "source": [
    "A_y = np.diag([1, 0, ρ, ρ_c, ρ_h, ρ_d, ρ_p, ρ_g])\n",
    "A_z = np.zeros((8, 3))"
   ]
  },
  {
   "cell_type": "markdown",
   "metadata": {},
   "source": [
    "We need to express $\\kappa_{t}$ as a function of the variables."
   ]
  },
  {
   "cell_type": "code",
   "execution_count": 67,
   "metadata": {},
   "outputs": [],
   "source": [
    "Θ = np.zeros((3, 8))\n",
    "Θ[0,1]  = 1\n",
    "Θ[2,0]  = -g_ss * (1 - np.log(g_ss))\n",
    "Θ[2,-1] = -g_ss"
   ]
  },
  {
   "cell_type": "code",
   "execution_count": 71,
   "metadata": {},
   "outputs": [
    {
     "data": {
      "text/plain": [
       "array([[0., 0.],\n",
       "       [0., 1.],\n",
       "       [0., 0.]])"
      ]
     },
     "execution_count": 71,
     "metadata": {},
     "output_type": "execute_result"
    }
   ],
   "source": [
    "Ψ = np.zeros((3,2))\n",
    "Ψ[1,1] = 1\n"
   ]
  },
  {
   "cell_type": "markdown",
   "metadata": {},
   "source": [
    "Normalization"
   ]
  },
  {
   "cell_type": "code",
   "execution_count": 124,
   "metadata": {},
   "outputs": [],
   "source": [
    "Qtilda = Q - W @ np.linalg.inv(R) @ W.T\n",
    "Qtilda_y = Qtilda[0:8,0:8]\n",
    "Qtilda_z = Qtilda[0:8,8:]\n",
    "Btilda = np.sqrt(β) * B\n",
    "Atilda_y = np.sqrt(β) * ( A_y - B_y @ np.linalg.inv(R) @ W_y.T) \n",
    "Atilda_z = np.sqrt(β) * (A_z - B_y @ np.linalg.inv(R) @ W_z.T)\n",
    "Btilda_y = np.sqrt(β) * B_y\n",
    "Θtilda = np.linalg.inv((np.identity(3) + Ψ @ np.linalg.inv(R) @ W_z.T)) @ (Θ - Ψ @ np.linalg.inv(R) @ W_y.T)\n",
    "Ψtilda = np.linalg.inv((np.identity(3) + Ψ @ np.linalg.inv(R) @ W_z.T)) @ Ψ"
   ]
  },
  {
   "cell_type": "code",
   "execution_count": 126,
   "metadata": {},
   "outputs": [],
   "source": [
    "Ahat = Atilda_y + Atilda_z @ Θtilda\n",
    "Qhat = Qtilda_y + Qtilda_z @ Θtilda\n",
    "Bhat = Btilda_y + Atilda_z @ Ψtilda\n",
    "Abar = Atilda_y - Btilda_y @  np.linalg.inv(R) @ Ψtilda.T @ Qtilda_z.T"
   ]
  },
  {
   "cell_type": "code",
   "execution_count": 192,
   "metadata": {},
   "outputs": [
    {
     "name": "stdout",
     "output_type": "stream",
     "text": [
      "Convergence\n"
     ]
    },
    {
     "data": {
      "text/plain": [
       "array([[-2.20499155e+00, -1.04545042e+00, -1.55789793e+00,\n",
       "        -1.70425554e-11,  1.14306532e+00, -2.89413565e+00,\n",
       "         2.10967108e+00,  7.09002217e-03],\n",
       "       [-1.77575239e+00,  0.00000000e+00,  0.00000000e+00,\n",
       "         0.00000000e+00,  0.00000000e+00,  0.00000000e+00,\n",
       "         0.00000000e+00,  0.00000000e+00],\n",
       "       [-1.83892575e+00,  6.99972891e-02,  2.42493746e-01,\n",
       "         3.27027932e-23, -2.68911646e-01,  2.68661940e-01,\n",
       "        -5.25677988e-01, -2.51355784e-04],\n",
       "       [ 1.01693014e-10,  1.47312288e-23,  3.24484487e-22,\n",
       "         1.07568783e-18, -2.76695240e-22,  6.66104018e-22,\n",
       "        -2.65557727e-22,  1.12545177e-11],\n",
       "       [ 3.27906516e+00, -1.50248172e+00, -4.60974589e-01,\n",
       "        -6.66684518e-23,  3.32270374e-01, -9.96284086e-01,\n",
       "         1.72470357e-01,  5.39601922e-03],\n",
       "       [-5.21730963e+00,  1.50250113e+00,  4.60979228e-01,\n",
       "         9.33314953e-23, -1.00168256e+00,  5.13859160e-01,\n",
       "        -2.66425087e-01, -2.36063522e-02],\n",
       "       [ 6.32224033e-01,  1.26906341e+00, -3.47724338e-01,\n",
       "         4.92859450e-24, -1.65140559e-01,  6.66315996e-02,\n",
       "        -1.80008429e-01, -4.55254132e-03],\n",
       "       [ 0.00000000e+00,  0.00000000e+00,  0.00000000e+00,\n",
       "         0.00000000e+00,  0.00000000e+00,  0.00000000e+00,\n",
       "         0.00000000e+00,  1.07568783e-18]])"
      ]
     },
     "execution_count": 192,
     "metadata": {},
     "output_type": "execute_result"
    }
   ],
   "source": [
    "i=0\n",
    "P0 = np.identity(8)\n",
    "P1 = np.zeros((8,8))\n",
    "while i<1000:\n",
    "    P1 = Qhat + Abar.T @ np.linalg.inv(np.linalg.inv(P0) + Bhat @ np.linalg.inv(R) @ Btilda_y.T) @ Ahat\n",
    "    if np.max(np.abs(P1-P0))>10e-5:\n",
    "        P0 = P1.copy()\n",
    "        i += 1\n",
    "    else:\n",
    "        print(\"Convergence\")\n",
    "        break"
   ]
  },
  {
   "cell_type": "code",
   "execution_count": 193,
   "metadata": {},
   "outputs": [],
   "source": [
    "Hup = np.concatenate((np.linalg.inv(Ahat), np.linalg.inv(Ahat) @ Bhat @ np.linalg.inv(R) @ Btilda_y.T), axis=1)\n",
    "Hdown = np.concatenate((Qhat @ np.linalg.inv(Ahat), Qhat @ np.linalg.inv(Ahat) @ Bhat @ np.linalg.inv(R) @ Btilda_y.T + Abar), axis=1)\n",
    "HAM = np.concatenate((Hup, Hdown), axis=0) "
   ]
  },
  {
   "cell_type": "code",
   "execution_count": 194,
   "metadata": {},
   "outputs": [],
   "source": [
    "λ, v = np.linalg.eig(HAM)\n",
    "index = np.where(np.sqrt(λ.real**2 + λ.imag**2)>1, 1, 0)\n",
    "Λ = np.diag(λ[(index)==True])\n",
    "V = np.empty([shape(HAM)[0],shape(HAM)[0]])\n",
    "aux_1 = 0\n",
    "aux_2 = 0 \n",
    "for i in range(shape(HAM)[0]):\n",
    "    if index[i] == 1:\n",
    "        V[:, aux_1] = v[:, i]\n",
    "        aux_1 += 1 \n",
    "    if index[i] == 0:\n",
    "        V[:, -1-aux_2] = v[:, i]\n",
    "        aux_2 += 1\n",
    "V_11 = V[0:8, 0:8]\n",
    "V_21 = V[8:16, 0:8]\n",
    "P_Vaughans = V_21 @ np.linalg.inv(V_11)"
   ]
  },
  {
   "cell_type": "code",
   "execution_count": 195,
   "metadata": {},
   "outputs": [
    {
     "data": {
      "text/plain": [
       "array([[-5.39076143e+00, -6.00288832e-05, -5.07698509e-02,\n",
       "        -3.96333925e-13,  4.09726845e-02, -8.35280553e-02,\n",
       "         5.82589260e-02,  4.30737517e-04],\n",
       "       [ 1.27251811e+00,  2.65061854e-02,  5.04291027e-01,\n",
       "         3.96130976e-12, -4.06026619e-01,  8.31436539e-01,\n",
       "        -5.79447234e-01, -4.23102285e-03],\n",
       "       [ 5.20846384e-01,  3.17831059e-06,  1.79568275e-03,\n",
       "         1.40189660e-14, -1.44912733e-03,  2.95438196e-03,\n",
       "        -2.06059571e-03, -1.52328563e-05],\n",
       "       [ 3.30315669e-19, -1.47312288e-23, -3.24484487e-22,\n",
       "        -1.07568783e-18,  2.76695240e-22, -6.66104018e-22,\n",
       "         2.65557727e-22,  3.95980407e-24],\n",
       "       [-6.94057995e-01, -6.82219787e-05, -3.85440714e-02,\n",
       "        -3.00915084e-13,  3.11053091e-02, -6.34153829e-02,\n",
       "         4.42303897e-02,  3.26971064e-04],\n",
       "       [ 6.81991999e-01,  6.82228601e-05,  3.85445694e-02,\n",
       "         3.00918972e-13, -3.11057110e-02,  6.34162022e-02,\n",
       "        -4.42309612e-02, -3.26975288e-04],\n",
       "       [-3.65281998e-01,  5.76233415e-05,  3.25560506e-02,\n",
       "         2.54166370e-13, -2.62729385e-02,  5.35634752e-02,\n",
       "        -3.73589700e-02, -2.76174418e-04],\n",
       "       [ 0.00000000e+00,  0.00000000e+00,  0.00000000e+00,\n",
       "         0.00000000e+00,  0.00000000e+00,  0.00000000e+00,\n",
       "         0.00000000e+00, -1.07568783e-18]])"
      ]
     },
     "execution_count": 195,
     "metadata": {},
     "output_type": "execute_result"
    }
   ],
   "source": [
    "P_Vaughans- P1"
   ]
  }
 ],
 "metadata": {
  "kernelspec": {
   "display_name": "Python 3.9.12 ('base')",
   "language": "python",
   "name": "python3"
  },
  "language_info": {
   "codemirror_mode": {
    "name": "ipython",
    "version": 3
   },
   "file_extension": ".py",
   "mimetype": "text/x-python",
   "name": "python",
   "nbconvert_exporter": "python",
   "pygments_lexer": "ipython3",
   "version": "3.9.12"
  },
  "orig_nbformat": 4,
  "vscode": {
   "interpreter": {
    "hash": "b69a4b02e7947e52e6ad2ba4161a8d75302f9e0e4230d8a535486fa2ac92da57"
   }
  }
 },
 "nbformat": 4,
 "nbformat_minor": 2
}
